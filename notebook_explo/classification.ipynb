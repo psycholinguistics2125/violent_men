{
 "cells": [
  {
   "cell_type": "code",
   "execution_count": 24,
   "metadata": {},
   "outputs": [
    {
     "name": "stdout",
     "output_type": "stream",
     "text": [
      "The autoreload extension is already loaded. To reload it, use:\n",
      "  %reload_ext autoreload\n"
     ]
    }
   ],
   "source": [
    "%load_ext autoreload\n",
    "%autoreload 2\n",
    "\n",
    "import pandas as pd\n",
    "import numpy as np\n",
    "\n",
    "from src.utils import load_data, load_config, load_merged_features\n",
    "from src import utils_stats as us\n",
    "\n",
    "\n",
    "from sklearn.model_selection import train_test_split\n",
    "from interpret.glassbox import ExplainableBoostingClassifier, LogisticRegression, ClassificationTree, DecisionListClassifier\n",
    "from sklearn.metrics import accuracy_score, f1_score, precision_score, recall_score, roc_auc_score\n",
    "from interpret import show"
   ]
  },
  {
   "cell_type": "code",
   "execution_count": 35,
   "metadata": {},
   "outputs": [],
   "source": [
    "config = load_config(\"config.yaml\")\n",
    "\n",
    "data = load_merged_features(config)\n",
    "data = data.replace([\"MANQUANT\"], 0)\n",
    "data = data.replace([np.inf, -np.inf], 0)\n",
    "#data = data.dropna()\n",
    "data['ABS_PRE_DISSOCIATION'] = data['ABS_PRE_DISSOCIATION'].apply(int)\n",
    "data['source_enc'] = data['source'].apply(lambda x : 1 if x == \"quebec\" else 0)\n"
   ]
  },
  {
   "cell_type": "code",
   "execution_count": 50,
   "metadata": {},
   "outputs": [
    {
     "data": {
      "text/plain": [
       "ABS_PRE_DISSOCIATION\n",
       "1    31\n",
       "0    27\n",
       "Name: count, dtype: int64"
      ]
     },
     "execution_count": 50,
     "metadata": {},
     "output_type": "execute_result"
    }
   ],
   "source": [
    "data.ABS_PRE_DISSOCIATION.value_counts()"
   ]
  },
  {
   "cell_type": "code",
   "execution_count": 49,
   "metadata": {},
   "outputs": [
    {
     "data": {
      "text/plain": [
       "TYPE_TRAUMA  ABS_PRE_DISSOCIATION\n",
       "1            0                       16\n",
       "             1                       13\n",
       "2            1                       18\n",
       "             0                       11\n",
       "Name: count, dtype: int64"
      ]
     },
     "execution_count": 49,
     "metadata": {},
     "output_type": "execute_result"
    }
   ],
   "source": [
    "data.groupby(\"TYPE_TRAUMA\").ABS_PRE_DISSOCIATION.value_counts()"
   ]
  },
  {
   "cell_type": "code",
   "execution_count": 7,
   "metadata": {},
   "outputs": [
    {
     "data": {
      "text/plain": [
       "Index(['Q1_incomplete_sentence', 'Q1_incomplete_word',\n",
       "       'Q2_incomplete_sentence', 'Q2_incomplete_word',\n",
       "       'Q3_incomplete_sentence', 'Q3_incomplete_word',\n",
       "       'Q4_incomplete_sentence', 'Q4_incomplete_word',\n",
       "       'text_incomplete_sentence', 'text_incomplete_word'],\n",
       "      dtype='object')"
      ]
     },
     "execution_count": 7,
     "metadata": {},
     "output_type": "execute_result"
    }
   ],
   "source": [
    "data.filter(regex = \"inco\").columns\n",
    "\n"
   ]
  },
  {
   "cell_type": "code",
   "execution_count": 36,
   "metadata": {},
   "outputs": [],
   "source": [
    "X = data[['Q1_passive_percentages',\n",
    "          \"Q1_ON_NOUS\",\"Q1_ON_QUELQU_UN\",\"Q1_ON_GENERIQUE\",\n",
    "          \"Q1_SENSATIONS_PHYSIQUES\",\n",
    "          \"Q1_MORT_IMPLICITE\",'Q1_MORT_EXPLICITE',\"Q1_CORPS\",\n",
    "          'Q1_PRESENT_ENNONCIATION',  'Q1_PRESENT_GENERIQUE', 'Q1_PRESENT_HISTORIQUE',\n",
    "          \"Q1_silent_break\",\"Q1_incomplete_sentence\",\"Q1_filled_break\",\"Q1_incomplete_word\",\n",
    "          \"TRAITEMENT\", \"source_enc\"\n",
    "          ]]\n"
   ]
  },
  {
   "cell_type": "code",
   "execution_count": 42,
   "metadata": {},
   "outputs": [
    {
     "name": "stdout",
     "output_type": "stream",
     "text": [
      "Accuracy: 22.22%\n",
      "F1: 22.22%\n"
     ]
    },
    {
     "data": {
      "text/html": [
       "<!-- http://127.0.0.1:7001/140270654044528/ -->\n",
       "<iframe src=\"http://127.0.0.1:7001/140270654044528/\" width=100% height=800 frameBorder=\"0\"></iframe>"
      ]
     },
     "metadata": {},
     "output_type": "display_data"
    }
   ],
   "source": [
    "y = data['ABS_PRE_DISSOCIATION']\n",
    "seed = 5\n",
    "\n",
    "X_train, X_test, y_train, y_test = train_test_split(X, y, test_size=0.15, random_state=seed)\n",
    "ebm = LogisticRegression()\n",
    "ebm.fit(X_train, y_train)\n",
    "\n",
    "y_pred = ebm.predict(X_test)\n",
    "print(\"Accuracy: %.2f%%\" % (accuracy_score(y_test, y_pred) * 100.0))\n",
    "print(\"F1: %.2f%%\" % (f1_score(y_test, y_pred) * 100.0))\n",
    "\n",
    "show(ebm.explain_global())"
   ]
  },
  {
   "cell_type": "code",
   "execution_count": 11,
   "metadata": {},
   "outputs": [
    {
     "data": {
      "text/html": [
       "<!-- http://127.0.0.1:7001/140270678535136/ -->\n",
       "<iframe src=\"http://127.0.0.1:7001/140270678535136/\" width=100% height=800 frameBorder=\"0\"></iframe>"
      ]
     },
     "metadata": {},
     "output_type": "display_data"
    }
   ],
   "source": [
    "\n"
   ]
  }
 ],
 "metadata": {
  "kernelspec": {
   "display_name": "violent_men",
   "language": "python",
   "name": "python3"
  },
  "language_info": {
   "codemirror_mode": {
    "name": "ipython",
    "version": 3
   },
   "file_extension": ".py",
   "mimetype": "text/x-python",
   "name": "python",
   "nbconvert_exporter": "python",
   "pygments_lexer": "ipython3",
   "version": "3.9.18"
  }
 },
 "nbformat": 4,
 "nbformat_minor": 2
}
